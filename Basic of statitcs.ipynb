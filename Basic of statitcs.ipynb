{
 "cells": [
  {
   "cell_type": "code",
   "execution_count": 1,
   "metadata": {},
   "outputs": [],
   "source": [
    "# 1. Explain the different types of data (qualitative and quantitative) and provide examples of each. Discuss\n",
    "# nominal, ordinal, interval, and ratio scales.\n",
    "\n",
    "# 2. What are the measures of central tendency, and when should you use each? Discuss the mean, median,\n",
    "# and mode with examples and situations where each is appropriate.\n",
    "\n",
    "# 3. Explain the concept of dispersion. How do variance and standard deviation measure the spread of data?\n",
    "\n",
    "# 4. What is a box plot, and what can it tell you about the distribution of data?\n",
    "\n",
    "# 5. Discuss the role of random sampling in making inferences about populations.\n",
    "\n",
    "# 6. Explain the concept of skewness and its types. How does skewness affect the interpretation of data?\n",
    "\n",
    "\n",
    "# 7. What is the interquartile range (IQR), and how is it used to detect outliers?\n",
    "\n",
    "\n",
    "# 8. Discuss the conditions under which the binomial distribution is used.\n",
    "\n",
    "\n",
    "# 9. Explain the properties of the normal distribution and the empirical rule (68-95-99.7 rule).\n",
    "\n",
    "\n",
    "# 10. Provide a real-life example of a Poisson process and calculate the probability for a specific event.\n",
    "\n",
    "\n",
    "# 11. Explain what a random variable is and differentiate between discrete and continuous random variables.\n",
    "\n",
    "\n",
    "# 12. Provide an example dataset, calculate both covariance and correlation, and interpret the results.\n"
   ]
  },
  {
   "cell_type": "markdown",
   "metadata": {},
   "source": [
    "# 1. Explain the different types of data (qualitative and quantitative) and provide examples of each. Discuss nominal, ordinal, interval, and ratio scales.\n",
    "### Qualitative (Categorical) Data: Descriptive and non-numeric, e.g., colors (red, blue).\n",
    "### Nominal Scale: Categories without order (e.g., gender: male/female).\n",
    "### Ordinal Scale: Ordered categories (e.g., ranks: 1st, 2nd, 3rd).\n",
    "### Quantitative (Numerical) Data: Numeric values, measurable.\n",
    "### Interval Scale: Numeric, no true zero (e.g., temperature in Celsius).\n",
    "### Ratio Scale: Numeric, true zero exists (e.g., height, weight)."
   ]
  },
  {
   "cell_type": "markdown",
   "metadata": {},
   "source": [
    "# 2.What are the measures of central tendency, and when should you use each?\n",
    "\n",
    "### Mean: Average value, used for symmetric data without outliers.\n",
    "### Median: Middle value, ideal for skewed distributions.\n",
    "### Mode: Most frequent value, used for categorical data."
   ]
  },
  {
   "cell_type": "markdown",
   "metadata": {},
   "source": [
    "# 3. Explain the concept of dispersion. How do variance and standard deviation measure the spread of data?\n",
    "### Solution:\n",
    "### - **Dispersion**: Measures variability in data (e.g., range, variance, standard deviation).\n",
    "### - **Variance**: Average of squared differences from the mean.\n",
    "### - **Standard Deviation**: Square root of variance, shows typical data deviation."
   ]
  },
  {
   "cell_type": "markdown",
   "metadata": {},
   "source": [
    "# 4. What is a box plot, and what can it tell you about the distribution of data?\n",
    "### Solution:\n",
    "### - A box plot visualizes the data's spread using the median, quartiles, and outliers.\n",
    "### - It highlights skewness and variability."
   ]
  },
  {
   "cell_type": "markdown",
   "metadata": {},
   "source": [
    "# 5. Discuss the role of random sampling in making inferences about populations.\n",
    "### Solution:\n",
    "### - Random sampling ensures each population member has an equal chance of selection.\n",
    "### - It reduces bias and enables generalization of results.\n"
   ]
  },
  {
   "cell_type": "markdown",
   "metadata": {},
   "source": [
    "# 6. Explain the concept of skewness and its types. How does skewness affect the interpretation of data?\n",
    "### Solution:\n",
    "### - **Skewness**: Measures asymmetry in a dataset.\n",
    "###   - Positive Skew: Tail on the right.\n",
    "###   - Negative Skew: Tail on the left.\n",
    "### - Skewness affects the reliability of the mean as a central measure."
   ]
  },
  {
   "cell_type": "markdown",
   "metadata": {},
   "source": [
    "# 7. What is the interquartile range (IQR), and how is it used to detect outliers?\n",
    "### Solution:\n",
    "### - **IQR**: Difference between Q3 (75th percentile) and Q1 (25th percentile).\n",
    "### - Outliers: Data points outside [Q1 - 1.5\\*IQR, Q3 + 1.5\\*IQR].\n"
   ]
  },
  {
   "cell_type": "markdown",
   "metadata": {},
   "source": [
    "# 8. Discuss the conditions under which the binomial distribution is used.\n",
    "### Solution:\n",
    "### - Fixed number of independent trials.\n",
    "### - Two outcomes: success or failure.\n",
    "### - Constant probability of success per trial.\n"
   ]
  },
  {
   "cell_type": "markdown",
   "metadata": {},
   "source": [
    "# 9. Explain the properties of the normal distribution and the empirical rule (68-95-99.7 rule).\n",
    "# Solution:\n",
    "### - **Normal Distribution**: Symmetrical bell curve, mean = median = mode.\n",
    "### - **Empirical Rule**:\n",
    "###   - 68% within 1 SD.\n",
    "###   - 95% within 2 SDs.\n",
    "###  - 99.7% within 3 SDs.\n"
   ]
  },
  {
   "cell_type": "code",
   "execution_count": 2,
   "metadata": {},
   "outputs": [
    {
     "data": {
      "text/plain": [
       "0.14037389581428056"
      ]
     },
     "execution_count": 2,
     "metadata": {},
     "output_type": "execute_result"
    }
   ],
   "source": [
    "# 10. Provide a real-life example of a Poisson process and calculate the probability for a specific event.\n",
    "# Solution:\n",
    "# Example: Calls received at a call center (rate = 5 calls/hour).\n",
    "import math\n",
    "\n",
    "# Given values\n",
    "rate = 5  # average rate of events per interval\n",
    "k = 3     # specific number of events\n",
    "\n",
    "# Poisson probability formula\n",
    "P_k = (math.exp(-rate) * rate**k) / math.factorial(k)\n",
    "P_k"
   ]
  },
  {
   "cell_type": "markdown",
   "metadata": {},
   "source": [
    "# 11. Explain what a random variable is and differentiate between discrete and continuous random variables.\n",
    "### Solution:\n",
    "### - **Random Variable**: Maps outcomes to numbers.\n",
    "###   - **Discrete**: Countable outcomes (e.g., dice roll).\n",
    "###   - **Continuous**: Infinite outcomes (e.g., weight).\n"
   ]
  },
  {
   "cell_type": "code",
   "execution_count": 5,
   "metadata": {},
   "outputs": [
    {
     "data": {
      "text/plain": [
       "(12.5, 0.993399267798783)"
      ]
     },
     "execution_count": 5,
     "metadata": {},
     "output_type": "execute_result"
    }
   ],
   "source": [
    "# 12. Provide an example dataset, calculate both covariance and correlation, and interpret the results.\n",
    "import numpy as np\n",
    "\n",
    "# Example dataset\n",
    "x = np.array([60, 62, 65])  # Heights\n",
    "y = np.array([110, 115, 120])  # Weights\n",
    "\n",
    "# Covariance\n",
    "covariance = np.cov(x, y)[0, 1]\n",
    "\n",
    "# Correlation\n",
    "correlation = np.corrcoef(x, y)[0, 1]\n",
    "\n",
    "covariance, correlation"
   ]
  },
  {
   "cell_type": "code",
   "execution_count": null,
   "metadata": {},
   "outputs": [],
   "source": []
  }
 ],
 "metadata": {
  "kernelspec": {
   "display_name": "base",
   "language": "python",
   "name": "python3"
  },
  "language_info": {
   "codemirror_mode": {
    "name": "ipython",
    "version": 3
   },
   "file_extension": ".py",
   "mimetype": "text/x-python",
   "name": "python",
   "nbconvert_exporter": "python",
   "pygments_lexer": "ipython3",
   "version": "3.11.5"
  }
 },
 "nbformat": 4,
 "nbformat_minor": 2
}
